{
  "nbformat": 4,
  "nbformat_minor": 0,
  "metadata": {
    "colab": {
      "provenance": [],
      "authorship_tag": "ABX9TyPGKaAY+Z1JaXWboGk1KGrG",
      "include_colab_link": true
    },
    "kernelspec": {
      "name": "python3",
      "display_name": "Python 3"
    },
    "language_info": {
      "name": "python"
    }
  },
  "cells": [
    {
      "cell_type": "markdown",
      "metadata": {
        "id": "view-in-github",
        "colab_type": "text"
      },
      "source": [
        "<a href=\"https://colab.research.google.com/github/Kavyalenka/AI_ML_Avanthi_Kavya/blob/main/Untitled1.ipynb\" target=\"_parent\"><img src=\"https://colab.research.google.com/assets/colab-badge.svg\" alt=\"Open In Colab\"/></a>"
      ]
    },
    {
      "cell_type": "code",
      "execution_count": null,
      "metadata": {
        "colab": {
          "base_uri": "https://localhost:8080/"
        },
        "id": "Al5sgkLvj95a",
        "outputId": "836f3082-ba73-4e68-f342-6f07ae6a2cb9"
      },
      "outputs": [
        {
          "output_type": "stream",
          "name": "stdout",
          "text": [
            "dairymilk\n",
            "snickers\n",
            "milkybar\n",
            "KitKat\n"
          ]
        }
      ],
      "source": [
        "#functions\n",
        "def chocolates():\n",
        "  print(\"dairymilk\")\n",
        "  print(\"snickers\")\n",
        "  print(\"milkybar\")\n",
        "chocolates()\n",
        "print(\"KitKat\")"
      ]
    },
    {
      "cell_type": "code",
      "source": [
        "#both a and b can be used\n",
        "def number (a):\n",
        "  if a>=5:\n",
        "    print(\"Good\")\n",
        "  else:\n",
        "    print(\"Bad\")\n",
        "b=5\n",
        "number(b)\n",
        "b=10\n",
        "number(b)\n",
        "b=1\n",
        "number(b)"
      ],
      "metadata": {
        "colab": {
          "base_uri": "https://localhost:8080/"
        },
        "id": "D9xOaw-8ryrT",
        "outputId": "33a89b47-a7e5-4983-f864-a1810040c086"
      },
      "execution_count": null,
      "outputs": [
        {
          "output_type": "stream",
          "name": "stdout",
          "text": [
            "Good\n",
            "Good\n",
            "Bad\n"
          ]
        }
      ]
    },
    {
      "cell_type": "code",
      "source": [
        "#parameters\n",
        "def number(a,b):\n",
        "  print(a)\n",
        "  print(b)\n",
        "a=5\n",
        "b=6\n",
        "number(a,b)"
      ],
      "metadata": {
        "colab": {
          "base_uri": "https://localhost:8080/"
        },
        "id": "cgMC9Kk6sfRE",
        "outputId": "e46dd79c-81f0-491d-f96a-c6be61f1dd86"
      },
      "execution_count": null,
      "outputs": [
        {
          "output_type": "stream",
          "name": "stdout",
          "text": [
            "5\n",
            "6\n"
          ]
        }
      ]
    },
    {
      "cell_type": "code",
      "source": [
        "#write a function to calculate the grades of a student based on their marks\n",
        "def grade():\n",
        "   marks=int(input(\"enter the marks\"))\n",
        "   if marks>=90 and marks<=100:\n",
        "      print(\"O\")\n",
        "   elif marks>=80 and marks<=89:\n",
        "      print(\"A+\")\n",
        "   elif marks>=70 and marks<=79:\n",
        "      print(\"B+\")\n",
        "   elif marks>=60 and marks<=69:\n",
        "      print(\"C+\")\n",
        "   elif marks>=50 and marks<=59:\n",
        "      print(\"D+\")\n",
        "   else:\n",
        "      print(\"fail \")\n",
        "for i in range(10):\n",
        "  grade()"
      ],
      "metadata": {
        "colab": {
          "base_uri": "https://localhost:8080/"
        },
        "id": "2kEhfS9PtkR1",
        "outputId": "a71f0231-82e1-4f49-aba3-29321ca06834"
      },
      "execution_count": null,
      "outputs": [
        {
          "metadata": {
            "tags": null
          },
          "name": "stdout",
          "output_type": "stream",
          "text": [
            "B+\n"
          ]
        }
      ]
    },
    {
      "cell_type": "code",
      "source": [
        "#1,2,3..... Numbers printing\n",
        "def number():\n",
        "  count=1\n",
        "  for i in range(1 to 5):\n",
        "  for j in range(i):\n",
        "   print(count end =\"\")\n",
        "   count ++=1\n",
        "print(\"\\n\")"
      ],
      "metadata": {
        "id": "muHzU2Vi69aS"
      },
      "execution_count": null,
      "outputs": []
    },
    {
      "cell_type": "code",
      "source": [
        "#star sums.....4,3,2,1...\n",
        "for i in range(4,0,-1):\n",
        "  for j in range(i):\n",
        "    print(\"*\",end=\"*\")\n",
        "  print(\"\\n\")"
      ],
      "metadata": {
        "id": "4ntrU5MO724J"
      },
      "execution_count": null,
      "outputs": []
    },
    {
      "cell_type": "code",
      "source": [
        "#"
      ],
      "metadata": {
        "id": "3rvNPG3c8mOW"
      },
      "execution_count": null,
      "outputs": []
    }
  ]
}